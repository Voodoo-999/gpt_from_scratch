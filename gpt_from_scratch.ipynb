{
  "nbformat": 4,
  "nbformat_minor": 0,
  "metadata": {
    "colab": {
      "provenance": [],
      "gpuType": "T4",
      "authorship_tag": "ABX9TyPPWlLmvVaKC3XmzKGn8IUv",
      "include_colab_link": true
    },
    "kernelspec": {
      "name": "python3",
      "display_name": "Python 3"
    },
    "language_info": {
      "name": "python"
    },
    "accelerator": "GPU"
  },
  "cells": [
    {
      "cell_type": "markdown",
      "metadata": {
        "id": "view-in-github",
        "colab_type": "text"
      },
      "source": [
        "<a href=\"https://colab.research.google.com/github/Voodoo-999/gpt_from_scratch/blob/main/gpt_from_scratch.ipynb\" target=\"_parent\"><img src=\"https://colab.research.google.com/assets/colab-badge.svg\" alt=\"Open In Colab\"/></a>"
      ]
    },
    {
      "cell_type": "code",
      "execution_count": null,
      "metadata": {
        "id": "sOvNBTrmSnhk"
      },
      "outputs": [],
      "source": [
        "import torch\n",
        "import torch.nn as nn\n",
        "from torch.nn import functional as F\n",
        "\n"
      ]
    },
    {
      "cell_type": "code",
      "source": [
        "# hyper param\n",
        "batch_size = 64\n",
        "block_size = 256\n",
        "n_embd = 384\n",
        "eval_interval = 500\n",
        "max_iters = 5000\n",
        "learning_rate = 3e-4\n",
        "n_head = 6\n",
        "n_layer = 6\n",
        "dropout =0.2\n",
        "device = 'cuda' if torch.cuda.is_available() else 'cpu'"
      ],
      "metadata": {
        "id": "56jJpdhWqiRy"
      },
      "execution_count": null,
      "outputs": []
    },
    {
      "cell_type": "code",
      "source": [
        "from google.colab import files\n",
        "uploaded = files.upload()"
      ],
      "metadata": {
        "id": "Evpy-Rt6a6SR"
      },
      "execution_count": null,
      "outputs": []
    },
    {
      "cell_type": "code",
      "source": [
        "\n",
        "filename = list(uploaded.keys())[0]\n",
        "with open(filename,'r') as f:\n",
        "  text = f.read()\n",
        "\n",
        "text_len=len(text)\n",
        "print(text_len)\n",
        "vocab = sorted(list(set(text)))\n",
        "print(vocab)\n",
        "vocab_len = len(vocab)\n",
        "print(vocab_len)"
      ],
      "metadata": {
        "id": "aw27GvArVu9C"
      },
      "execution_count": null,
      "outputs": []
    },
    {
      "cell_type": "code",
      "source": [
        "stoi = {ch: i for i, ch in enumerate(vocab)}\n",
        "itos = {i: ch for i, ch in enumerate(vocab)}\n",
        "def encode(string):\n",
        "  return [stoi[c] for c in string]\n",
        "def decode(integers):\n",
        "  return ''.join(itos[i] for i in integers)"
      ],
      "metadata": {
        "id": "dBfw6j3xbkMR"
      },
      "execution_count": null,
      "outputs": []
    },
    {
      "cell_type": "code",
      "source": [
        "encoded_text = torch.tensor(encode(text), dtype = torch.long)\n",
        "\n",
        "print(encoded_text.shape)"
      ],
      "metadata": {
        "id": "gDX1sk1rfLuo"
      },
      "execution_count": null,
      "outputs": []
    },
    {
      "cell_type": "code",
      "source": [
        "train_split = int(0.9*text_len)\n",
        "train_text = encoded_text[:train_split]\n",
        "val_text = encoded_text[train_split:]"
      ],
      "metadata": {
        "id": "J92J9cmlWNty"
      },
      "execution_count": null,
      "outputs": []
    },
    {
      "cell_type": "code",
      "source": [
        "def get_batch(split):\n",
        "  if split == 'train':\n",
        "    data = train_text\n",
        "  else:\n",
        "    data = val_text\n",
        "  idx = torch.randint(len(data) - block_size, (batch_size,))\n",
        "  x = torch.stack([data[i:i+block_size] for i in idx])\n",
        "  y = torch.stack([data[i+1:i+block_size+1] for i in idx])\n",
        "  x, y = x.to(device), y.to(device)\n",
        "  return x, y\n",
        "\n",
        "xb, yb = get_batch('train')\n",
        "print(xb)\n",
        "print(yb)"
      ],
      "metadata": {
        "id": "DhnqnatdhCaz"
      },
      "execution_count": null,
      "outputs": []
    },
    {
      "cell_type": "code",
      "source": [
        "class Head(nn.Module):\n",
        "  #one head of self attention\n",
        "\n",
        "  def __init__(self, head_size):\n",
        "    super().__init__()\n",
        "    self.key = nn.Linear(n_embd, head_size, bias=False)\n",
        "    self.query = nn.Linear(n_embd, head_size,bias=False)\n",
        "    self.value = nn.Linear(n_embd,head_size,bias=False)\n",
        "    self.register_buffer('tril',torch.tril(torch.ones(block_size,block_size)))\n",
        "    self.dropout = nn.Dropout(dropout)\n",
        "\n",
        "  def forward(self, x):\n",
        "    B,T,C = x.shape\n",
        "    k = self.key(x) # (B,T,C)\n",
        "    q = self.query(x)# (B,T,C)\n",
        "    v = self.value(x)# (B,T,C)\n",
        "    wei = q @ k.transpose(-2,-1) * C**-0.5 # (B,T,C) * (B,C,T) --> (B,T,T)\n",
        "    wei = wei.masked_fill(self.tril[:T,:T] == 0, float('-inf')) # still (B,T,T)\n",
        "    wei = F.softmax(wei, dim =-1)\n",
        "    wei = self.dropout(wei)\n",
        "    out = wei @ v # (B,T,T) * (B,T,C) --> (B,T,C)\n",
        "    return out\n"
      ],
      "metadata": {
        "id": "PFhXWyNp6tTj"
      },
      "execution_count": null,
      "outputs": []
    },
    {
      "cell_type": "code",
      "source": [
        "class MultiHeadattention(nn.Module):\n",
        "  # multi headed attention\n",
        "\n",
        "  def __init__(self, num_heads, head_size):\n",
        "    super().__init__()\n",
        "    self.heads = nn.ModuleList([Head(head_size) for _ in range(num_heads)])\n",
        "    self.proj = nn.Linear(n_embd, n_embd)\n",
        "    self.dropout = nn.Dropout(dropout)\n",
        "\n",
        "\n",
        "  def forward(self, x):\n",
        "    out =  torch.cat([h(x) for h in self.heads], dim =-1)\n",
        "    out = self.dropout(self.proj(out))\n",
        "    return out"
      ],
      "metadata": {
        "id": "h6r9faWSHaLq"
      },
      "execution_count": null,
      "outputs": []
    },
    {
      "cell_type": "code",
      "source": [
        "class FeedFoward(nn.Module):\n",
        "  def __init__(self, n_embd):\n",
        "    super().__init__()\n",
        "    self.net = nn.Sequential(\n",
        "        nn.Linear(n_embd, 4*n_embd),\n",
        "        nn.ReLU(), # Add parentheses here to instantiate the module\n",
        "        # this is the projection going back to the residual pathway\n",
        "        nn.Linear(4*n_embd, n_embd),\n",
        "        nn.Dropout(dropout),\n",
        "    )\n",
        "\n",
        "  def forward(self, x):\n",
        "    return self.net(x)"
      ],
      "metadata": {
        "id": "7AGuxXgwKpg9"
      },
      "execution_count": null,
      "outputs": []
    },
    {
      "cell_type": "code",
      "source": [
        "class Block(nn.Module):\n",
        "  def __init__(self,n_embd, n_head):\n",
        "    super().__init__()\n",
        "    head_size = n_embd//n_head\n",
        "    self.sa_heads = MultiHeadattention(n_head,head_size)\n",
        "    self.ffwd = FeedFoward(n_embd)\n",
        "    self.ln1 = nn.LayerNorm(n_embd)\n",
        "    self.ln2 = nn.LayerNorm(n_embd)\n",
        "\n",
        "  def forward(self, x):\n",
        "    x = x + self.sa_heads(self.ln1(x))\n",
        "    x = x + self.ffwd(self.ln2(x))\n",
        "    return x"
      ],
      "metadata": {
        "id": "77PDedsqLwf3"
      },
      "execution_count": null,
      "outputs": []
    },
    {
      "cell_type": "code",
      "source": [
        "class GPTLanguageModel(nn.Module):\n",
        "  def __init__(self):\n",
        "    super().__init__()\n",
        "    self.token_embd_table = nn.Embedding(vocab_len, n_embd)\n",
        "    self.position_embd_table = nn.Embedding(block_size, n_embd)\n",
        "    self.blocks = nn.Sequential(*[Block(n_embd, n_head=n_head) for _ in range(n_layer)])\n",
        "    self.ln_f = nn.LayerNorm(n_embd)\n",
        "    self.lm_head = nn.Linear(n_embd, vocab_len)\n",
        "\n",
        "  def forward(self, idx, targets = None):\n",
        "    B, T = idx.shape\n",
        "\n",
        "    tok_emb = self.token_embd_table(idx) # (B, T, n_emd)\n",
        "    pos_emb = self.position_embd_table(torch.arange(T, device=device)) #(T,C)\n",
        "    x = tok_emb + pos_emb\n",
        "    x = self.blocks(x)\n",
        "    logits = self.lm_head(x) # (B, T, vocab_size)\n",
        "    if targets is None :\n",
        "      loss = None\n",
        "    else:\n",
        "      B, T, C = logits.shape\n",
        "      logits = logits.view(B*T, C)\n",
        "      targets = targets.view(B*T)\n",
        "      loss = F.cross_entropy(logits, targets)\n",
        "\n",
        "    return logits, loss\n",
        "  def generate(self, idx, max_new_tokens):\n",
        "    for _ in range (max_new_tokens):\n",
        "      idx_cropped = idx[:, -block_size:]\n",
        "      logits, _loss = self(idx_cropped)\n",
        "      logits = logits[:,-1,:] #becomes (B,C)\n",
        "      probs = F.softmax(logits, dim=-1) # (B,C)\n",
        "      idx_next = torch.multinomial(probs, num_samples=1) # (B,1)\n",
        "      idx = torch.cat((idx, idx_next), dim= 1) # (B,T+1)\n",
        "    return idx\n",
        "model = GPTLanguageModel()\n",
        "m= model.to(device)\n",
        "logits, loss = m(xb, yb)\n",
        "print(logits.shape)\n",
        "print(loss)"
      ],
      "metadata": {
        "id": "Yg4jCIcTrarR"
      },
      "execution_count": null,
      "outputs": []
    },
    {
      "cell_type": "code",
      "source": [
        "print(decode(m.generate(torch.zeros((1,1),dtype=torch.long, device = device), max_new_tokens=1000)[0].tolist()))\n"
      ],
      "metadata": {
        "id": "e1Chl3YU198q"
      },
      "execution_count": null,
      "outputs": []
    },
    {
      "cell_type": "code",
      "source": [
        "@torch.no_grad()\n",
        "def estimate_loss(gpt, iters = 100):\n",
        "  out = {}\n",
        "  gpt.eval()\n",
        "  for split in ['train','val']:\n",
        "    losses = torch.zeros(iters)\n",
        "    for k in range(iters):\n",
        "      X, Y = get_batch(split)\n",
        "      _logits, loss = gpt(X,Y)\n",
        "      losses[k] = loss.item()\n",
        "    out[split] = losses.mean()\n",
        "  gpt.train()\n",
        "  return out"
      ],
      "metadata": {
        "id": "PVEPTRWEdkmV"
      },
      "execution_count": null,
      "outputs": []
    },
    {
      "cell_type": "code",
      "source": [
        "\n",
        "optimizer = torch.optim.AdamW(model.parameters(), lr=learning_rate)\n",
        "\n",
        "def train_model(model, optimizer):\n",
        "  for iter in range(max_iters):\n",
        "    if iter % eval_interval == 0:\n",
        "      loss_status = estimate_loss(model)\n",
        "      print(f\"train loss: {loss_status['train'].item():.4f}, eval loss: {loss_status['val'].item():.4f} \")\n",
        "    x, y = get_batch('train')\n",
        "    logits, loss = m(x,y)\n",
        "    optimizer.zero_grad(set_to_none = True)\n",
        "    loss.backward()\n",
        "    optimizer.step()\n",
        "train_model(m,optimizer)"
      ],
      "metadata": {
        "id": "gDsiIFb1yu4z"
      },
      "execution_count": null,
      "outputs": []
    },
    {
      "cell_type": "code",
      "source": [
        "print(decode(m.generate(torch.zeros((1,1),dtype=torch.long, device = device), max_new_tokens=1000)[0].tolist()))\n"
      ],
      "metadata": {
        "id": "SAp6YcsbhLz7"
      },
      "execution_count": null,
      "outputs": []
    }
  ]
}